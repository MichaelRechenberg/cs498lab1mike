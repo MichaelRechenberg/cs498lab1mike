{
 "cells": [
  {
   "cell_type": "code",
   "execution_count": 4,
   "metadata": {},
   "outputs": [],
   "source": [
    "# The id to class name label map for COCO is in a format that requires\n",
    "#   The tensorflow.models repository to use...so I am going to make a JSON array to do the conversion\n",
    "\n",
    "lines = []\n",
    "with open('./mscoco_label_map.pbtxt', 'r') as f:\n",
    "    lines = [line.strip() for line in f.readlines()]"
   ]
  },
  {
   "cell_type": "code",
   "execution_count": 13,
   "metadata": {},
   "outputs": [
    {
     "name": "stdout",
     "output_type": "stream",
     "text": [
      "80\n",
      "['item {', 'name: \"/m/01g317\"', 'id: 1', 'display_name: \"person\"', '}', 'item {']\n"
     ]
    }
   ],
   "source": [
    "num_items = int(len(lines)/5)\n",
    "print(num_items)\n",
    "\n",
    "print(lines[:6])"
   ]
  },
  {
   "cell_type": "code",
   "execution_count": 21,
   "metadata": {},
   "outputs": [
    {
     "name": "stdout",
     "output_type": "stream",
     "text": [
      "{1: 'person', 2: 'bicycle', 3: 'car', 4: 'motorcycle', 5: 'airplane', 6: 'bus', 7: 'train', 8: 'truck', 9: 'boat', 10: 'traffic', 11: 'fire', 13: 'stop', 14: 'parking', 15: 'bench', 16: 'bird', 17: 'cat', 18: 'dog', 19: 'horse', 20: 'sheep', 21: 'cow', 22: 'elephant', 23: 'bear', 24: 'zebra', 25: 'giraffe', 27: 'backpack', 28: 'umbrella', 31: 'handbag', 32: 'tie', 33: 'suitcase', 34: 'frisbee', 35: 'skis', 36: 'snowboard', 37: 'sports', 38: 'kite', 39: 'baseball', 40: 'baseball', 41: 'skateboard', 42: 'surfboard', 43: 'tennis', 44: 'bottle', 46: 'wine', 47: 'cup', 48: 'fork', 49: 'knife', 50: 'spoon', 51: 'bowl', 52: 'banana', 53: 'apple', 54: 'sandwich', 55: 'orange', 56: 'broccoli', 57: 'carrot', 58: 'hot', 59: 'pizza', 60: 'donut', 61: 'cake', 62: 'chair', 63: 'couch', 64: 'potted', 65: 'bed', 67: 'dining', 70: 'toilet', 72: 'tv', 73: 'laptop', 74: 'mouse', 75: 'remote', 76: 'keyboard', 77: 'cell', 78: 'microwave', 79: 'oven', 80: 'toaster', 81: 'sink', 82: 'refrigerator', 84: 'book', 85: 'clock', 86: 'vase', 87: 'scissors', 88: 'teddy', 89: 'hair', 90: 'toothbrush'}\n"
     ]
    }
   ],
   "source": [
    "label_dict = {}\n",
    "\n",
    "for idx in range(num_items):\n",
    "    start_idx = idx*5\n",
    "    end_idx = start_idx + 5\n",
    "    chunk = lines[start_idx:end_idx:]\n",
    "    \n",
    "    \n",
    "    the_id = int(chunk[2].split(' ')[1])\n",
    "    the_name = chunk[3].split(' ')[1].strip('\"')\n",
    "    \n",
    "    label_dict[the_id] = the_name\n",
    "    \n",
    "    \n",
    "\n",
    "print(label_dict)"
   ]
  },
  {
   "cell_type": "code",
   "execution_count": 22,
   "metadata": {},
   "outputs": [],
   "source": [
    "import json\n",
    "\n",
    "with open('coco_label_map.json', 'w') as f:\n",
    "    json.dump(label_dict, f)"
   ]
  }
 ],
 "metadata": {
  "kernelspec": {
   "display_name": "Python 3",
   "language": "python",
   "name": "python3"
  },
  "language_info": {
   "codemirror_mode": {
    "name": "ipython",
    "version": 3
   },
   "file_extension": ".py",
   "mimetype": "text/x-python",
   "name": "python",
   "nbconvert_exporter": "python",
   "pygments_lexer": "ipython3",
   "version": "3.5.3"
  }
 },
 "nbformat": 4,
 "nbformat_minor": 2
}
